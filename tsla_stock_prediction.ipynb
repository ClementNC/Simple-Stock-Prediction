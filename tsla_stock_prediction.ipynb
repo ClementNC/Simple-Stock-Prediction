{
 "cells": [
  {
   "cell_type": "code",
   "execution_count": 22,
   "metadata": {},
   "outputs": [
    {
     "data": {
      "text/html": [
       "<div>\n",
       "<style scoped>\n",
       "    .dataframe tbody tr th:only-of-type {\n",
       "        vertical-align: middle;\n",
       "    }\n",
       "\n",
       "    .dataframe tbody tr th {\n",
       "        vertical-align: top;\n",
       "    }\n",
       "\n",
       "    .dataframe thead th {\n",
       "        text-align: right;\n",
       "    }\n",
       "</style>\n",
       "<table border=\"1\" class=\"dataframe\">\n",
       "  <thead>\n",
       "    <tr style=\"text-align: right;\">\n",
       "      <th></th>\n",
       "      <th>Date</th>\n",
       "      <th>Open</th>\n",
       "      <th>High</th>\n",
       "      <th>Low</th>\n",
       "      <th>Close</th>\n",
       "      <th>Adj Close</th>\n",
       "      <th>Volume</th>\n",
       "    </tr>\n",
       "  </thead>\n",
       "  <tbody>\n",
       "    <tr>\n",
       "      <th>0</th>\n",
       "      <td>2010-06-29</td>\n",
       "      <td>1.266667</td>\n",
       "      <td>1.666667</td>\n",
       "      <td>1.169333</td>\n",
       "      <td>1.592667</td>\n",
       "      <td>1.592667</td>\n",
       "      <td>281494500</td>\n",
       "    </tr>\n",
       "    <tr>\n",
       "      <th>1</th>\n",
       "      <td>2010-06-30</td>\n",
       "      <td>1.719333</td>\n",
       "      <td>2.028000</td>\n",
       "      <td>1.553333</td>\n",
       "      <td>1.588667</td>\n",
       "      <td>1.588667</td>\n",
       "      <td>257806500</td>\n",
       "    </tr>\n",
       "    <tr>\n",
       "      <th>2</th>\n",
       "      <td>2010-07-01</td>\n",
       "      <td>1.666667</td>\n",
       "      <td>1.728000</td>\n",
       "      <td>1.351333</td>\n",
       "      <td>1.464000</td>\n",
       "      <td>1.464000</td>\n",
       "      <td>123282000</td>\n",
       "    </tr>\n",
       "    <tr>\n",
       "      <th>3</th>\n",
       "      <td>2010-07-02</td>\n",
       "      <td>1.533333</td>\n",
       "      <td>1.540000</td>\n",
       "      <td>1.247333</td>\n",
       "      <td>1.280000</td>\n",
       "      <td>1.280000</td>\n",
       "      <td>77097000</td>\n",
       "    </tr>\n",
       "    <tr>\n",
       "      <th>4</th>\n",
       "      <td>2010-07-06</td>\n",
       "      <td>1.333333</td>\n",
       "      <td>1.333333</td>\n",
       "      <td>1.055333</td>\n",
       "      <td>1.074000</td>\n",
       "      <td>1.074000</td>\n",
       "      <td>103003500</td>\n",
       "    </tr>\n",
       "    <tr>\n",
       "      <th>...</th>\n",
       "      <td>...</td>\n",
       "      <td>...</td>\n",
       "      <td>...</td>\n",
       "      <td>...</td>\n",
       "      <td>...</td>\n",
       "      <td>...</td>\n",
       "      <td>...</td>\n",
       "    </tr>\n",
       "    <tr>\n",
       "      <th>3063</th>\n",
       "      <td>2022-08-29</td>\n",
       "      <td>282.829987</td>\n",
       "      <td>287.739990</td>\n",
       "      <td>280.700012</td>\n",
       "      <td>284.820007</td>\n",
       "      <td>284.820007</td>\n",
       "      <td>41864700</td>\n",
       "    </tr>\n",
       "    <tr>\n",
       "      <th>3064</th>\n",
       "      <td>2022-08-30</td>\n",
       "      <td>287.869995</td>\n",
       "      <td>288.480011</td>\n",
       "      <td>272.649994</td>\n",
       "      <td>277.700012</td>\n",
       "      <td>277.700012</td>\n",
       "      <td>50541800</td>\n",
       "    </tr>\n",
       "    <tr>\n",
       "      <th>3065</th>\n",
       "      <td>2022-08-31</td>\n",
       "      <td>280.619995</td>\n",
       "      <td>281.250000</td>\n",
       "      <td>271.809998</td>\n",
       "      <td>275.609985</td>\n",
       "      <td>275.609985</td>\n",
       "      <td>52107300</td>\n",
       "    </tr>\n",
       "    <tr>\n",
       "      <th>3066</th>\n",
       "      <td>2022-09-01</td>\n",
       "      <td>272.579987</td>\n",
       "      <td>277.579987</td>\n",
       "      <td>266.149994</td>\n",
       "      <td>277.160004</td>\n",
       "      <td>277.160004</td>\n",
       "      <td>54287000</td>\n",
       "    </tr>\n",
       "    <tr>\n",
       "      <th>3067</th>\n",
       "      <td>2022-09-02</td>\n",
       "      <td>281.070007</td>\n",
       "      <td>282.350006</td>\n",
       "      <td>269.079987</td>\n",
       "      <td>270.209991</td>\n",
       "      <td>270.209991</td>\n",
       "      <td>50752200</td>\n",
       "    </tr>\n",
       "  </tbody>\n",
       "</table>\n",
       "<p>3068 rows × 7 columns</p>\n",
       "</div>"
      ],
      "text/plain": [
       "            Date        Open        High         Low       Close   Adj Close  \\\n",
       "0     2010-06-29    1.266667    1.666667    1.169333    1.592667    1.592667   \n",
       "1     2010-06-30    1.719333    2.028000    1.553333    1.588667    1.588667   \n",
       "2     2010-07-01    1.666667    1.728000    1.351333    1.464000    1.464000   \n",
       "3     2010-07-02    1.533333    1.540000    1.247333    1.280000    1.280000   \n",
       "4     2010-07-06    1.333333    1.333333    1.055333    1.074000    1.074000   \n",
       "...          ...         ...         ...         ...         ...         ...   \n",
       "3063  2022-08-29  282.829987  287.739990  280.700012  284.820007  284.820007   \n",
       "3064  2022-08-30  287.869995  288.480011  272.649994  277.700012  277.700012   \n",
       "3065  2022-08-31  280.619995  281.250000  271.809998  275.609985  275.609985   \n",
       "3066  2022-09-01  272.579987  277.579987  266.149994  277.160004  277.160004   \n",
       "3067  2022-09-02  281.070007  282.350006  269.079987  270.209991  270.209991   \n",
       "\n",
       "         Volume  \n",
       "0     281494500  \n",
       "1     257806500  \n",
       "2     123282000  \n",
       "3      77097000  \n",
       "4     103003500  \n",
       "...         ...  \n",
       "3063   41864700  \n",
       "3064   50541800  \n",
       "3065   52107300  \n",
       "3066   54287000  \n",
       "3067   50752200  \n",
       "\n",
       "[3068 rows x 7 columns]"
      ]
     },
     "execution_count": 22,
     "metadata": {},
     "output_type": "execute_result"
    }
   ],
   "source": [
    "import pandas as pd\n",
    "\n",
    "df = pd.read_csv('TSLA.csv')\n",
    "df"
   ]
  },
  {
   "cell_type": "code",
   "execution_count": 23,
   "metadata": {},
   "outputs": [
    {
     "data": {
      "text/html": [
       "<div>\n",
       "<style scoped>\n",
       "    .dataframe tbody tr th:only-of-type {\n",
       "        vertical-align: middle;\n",
       "    }\n",
       "\n",
       "    .dataframe tbody tr th {\n",
       "        vertical-align: top;\n",
       "    }\n",
       "\n",
       "    .dataframe thead th {\n",
       "        text-align: right;\n",
       "    }\n",
       "</style>\n",
       "<table border=\"1\" class=\"dataframe\">\n",
       "  <thead>\n",
       "    <tr style=\"text-align: right;\">\n",
       "      <th></th>\n",
       "      <th>Date</th>\n",
       "      <th>Close</th>\n",
       "    </tr>\n",
       "  </thead>\n",
       "  <tbody>\n",
       "    <tr>\n",
       "      <th>0</th>\n",
       "      <td>2010-06-29</td>\n",
       "      <td>1.592667</td>\n",
       "    </tr>\n",
       "    <tr>\n",
       "      <th>1</th>\n",
       "      <td>2010-06-30</td>\n",
       "      <td>1.588667</td>\n",
       "    </tr>\n",
       "    <tr>\n",
       "      <th>2</th>\n",
       "      <td>2010-07-01</td>\n",
       "      <td>1.464000</td>\n",
       "    </tr>\n",
       "    <tr>\n",
       "      <th>3</th>\n",
       "      <td>2010-07-02</td>\n",
       "      <td>1.280000</td>\n",
       "    </tr>\n",
       "    <tr>\n",
       "      <th>4</th>\n",
       "      <td>2010-07-06</td>\n",
       "      <td>1.074000</td>\n",
       "    </tr>\n",
       "    <tr>\n",
       "      <th>...</th>\n",
       "      <td>...</td>\n",
       "      <td>...</td>\n",
       "    </tr>\n",
       "    <tr>\n",
       "      <th>3063</th>\n",
       "      <td>2022-08-29</td>\n",
       "      <td>284.820007</td>\n",
       "    </tr>\n",
       "    <tr>\n",
       "      <th>3064</th>\n",
       "      <td>2022-08-30</td>\n",
       "      <td>277.700012</td>\n",
       "    </tr>\n",
       "    <tr>\n",
       "      <th>3065</th>\n",
       "      <td>2022-08-31</td>\n",
       "      <td>275.609985</td>\n",
       "    </tr>\n",
       "    <tr>\n",
       "      <th>3066</th>\n",
       "      <td>2022-09-01</td>\n",
       "      <td>277.160004</td>\n",
       "    </tr>\n",
       "    <tr>\n",
       "      <th>3067</th>\n",
       "      <td>2022-09-02</td>\n",
       "      <td>270.209991</td>\n",
       "    </tr>\n",
       "  </tbody>\n",
       "</table>\n",
       "<p>3068 rows × 2 columns</p>\n",
       "</div>"
      ],
      "text/plain": [
       "            Date       Close\n",
       "0     2010-06-29    1.592667\n",
       "1     2010-06-30    1.588667\n",
       "2     2010-07-01    1.464000\n",
       "3     2010-07-02    1.280000\n",
       "4     2010-07-06    1.074000\n",
       "...          ...         ...\n",
       "3063  2022-08-29  284.820007\n",
       "3064  2022-08-30  277.700012\n",
       "3065  2022-08-31  275.609985\n",
       "3066  2022-09-01  277.160004\n",
       "3067  2022-09-02  270.209991\n",
       "\n",
       "[3068 rows x 2 columns]"
      ]
     },
     "execution_count": 23,
     "metadata": {},
     "output_type": "execute_result"
    }
   ],
   "source": [
    "df = df[['Date', 'Close']]\n",
    "df"
   ]
  },
  {
   "cell_type": "code",
   "execution_count": 24,
   "metadata": {},
   "outputs": [],
   "source": [
    "import datetime\n",
    "\n",
    "def str_to_datetime(s):\n",
    "    split = s.split('-')\n",
    "    year, month, day = int(split[0]), int(split[1]), int(split[2])\n",
    "    return datetime.datetime(year=year, month=month, day=day)\n"
   ]
  },
  {
   "cell_type": "code",
   "execution_count": 27,
   "metadata": {},
   "outputs": [
    {
     "ename": "AttributeError",
     "evalue": "'Timestamp' object has no attribute 'split'",
     "output_type": "error",
     "traceback": [
      "\u001b[1;31m---------------------------------------------------------------------------\u001b[0m",
      "\u001b[1;31mAttributeError\u001b[0m                            Traceback (most recent call last)",
      "\u001b[1;32mc:\\Users\\William\\Documents\\Clement\\Python\\Stock Price Prediction\\tsla_stock_prediction.ipynb Cell 4\u001b[0m in \u001b[0;36m<module>\u001b[1;34m\u001b[0m\n\u001b[1;32m----> <a href='vscode-notebook-cell:/c%3A/Users/William/Documents/Clement/Python/Stock%20Price%20Prediction/tsla_stock_prediction.ipynb#W5sZmlsZQ%3D%3D?line=0'>1</a>\u001b[0m df[\u001b[39m'\u001b[39m\u001b[39mDate\u001b[39m\u001b[39m'\u001b[39m] \u001b[39m=\u001b[39m df[\u001b[39m'\u001b[39;49m\u001b[39mDate\u001b[39;49m\u001b[39m'\u001b[39;49m]\u001b[39m.\u001b[39;49mapply(str_to_datetime)\n\u001b[0;32m      <a href='vscode-notebook-cell:/c%3A/Users/William/Documents/Clement/Python/Stock%20Price%20Prediction/tsla_stock_prediction.ipynb#W5sZmlsZQ%3D%3D?line=1'>2</a>\u001b[0m df[\u001b[39m'\u001b[39m\u001b[39mDate\u001b[39m\u001b[39m'\u001b[39m]\n",
      "File \u001b[1;32m~\\AppData\\Local\\Packages\\PythonSoftwareFoundation.Python.3.9_qbz5n2kfra8p0\\LocalCache\\local-packages\\Python39\\site-packages\\pandas\\core\\series.py:4430\u001b[0m, in \u001b[0;36mSeries.apply\u001b[1;34m(self, func, convert_dtype, args, **kwargs)\u001b[0m\n\u001b[0;32m   4320\u001b[0m \u001b[39mdef\u001b[39;00m \u001b[39mapply\u001b[39m(\n\u001b[0;32m   4321\u001b[0m     \u001b[39mself\u001b[39m,\n\u001b[0;32m   4322\u001b[0m     func: AggFuncType,\n\u001b[1;32m   (...)\u001b[0m\n\u001b[0;32m   4325\u001b[0m     \u001b[39m*\u001b[39m\u001b[39m*\u001b[39mkwargs,\n\u001b[0;32m   4326\u001b[0m ) \u001b[39m-\u001b[39m\u001b[39m>\u001b[39m DataFrame \u001b[39m|\u001b[39m Series:\n\u001b[0;32m   4327\u001b[0m     \u001b[39m\"\"\"\u001b[39;00m\n\u001b[0;32m   4328\u001b[0m \u001b[39m    Invoke function on values of Series.\u001b[39;00m\n\u001b[0;32m   4329\u001b[0m \n\u001b[1;32m   (...)\u001b[0m\n\u001b[0;32m   4428\u001b[0m \u001b[39m    dtype: float64\u001b[39;00m\n\u001b[0;32m   4429\u001b[0m \u001b[39m    \"\"\"\u001b[39;00m\n\u001b[1;32m-> 4430\u001b[0m     \u001b[39mreturn\u001b[39;00m SeriesApply(\u001b[39mself\u001b[39;49m, func, convert_dtype, args, kwargs)\u001b[39m.\u001b[39;49mapply()\n",
      "File \u001b[1;32m~\\AppData\\Local\\Packages\\PythonSoftwareFoundation.Python.3.9_qbz5n2kfra8p0\\LocalCache\\local-packages\\Python39\\site-packages\\pandas\\core\\apply.py:1082\u001b[0m, in \u001b[0;36mSeriesApply.apply\u001b[1;34m(self)\u001b[0m\n\u001b[0;32m   1078\u001b[0m \u001b[39mif\u001b[39;00m \u001b[39misinstance\u001b[39m(\u001b[39mself\u001b[39m\u001b[39m.\u001b[39mf, \u001b[39mstr\u001b[39m):\n\u001b[0;32m   1079\u001b[0m     \u001b[39m# if we are a string, try to dispatch\u001b[39;00m\n\u001b[0;32m   1080\u001b[0m     \u001b[39mreturn\u001b[39;00m \u001b[39mself\u001b[39m\u001b[39m.\u001b[39mapply_str()\n\u001b[1;32m-> 1082\u001b[0m \u001b[39mreturn\u001b[39;00m \u001b[39mself\u001b[39;49m\u001b[39m.\u001b[39;49mapply_standard()\n",
      "File \u001b[1;32m~\\AppData\\Local\\Packages\\PythonSoftwareFoundation.Python.3.9_qbz5n2kfra8p0\\LocalCache\\local-packages\\Python39\\site-packages\\pandas\\core\\apply.py:1137\u001b[0m, in \u001b[0;36mSeriesApply.apply_standard\u001b[1;34m(self)\u001b[0m\n\u001b[0;32m   1131\u001b[0m         values \u001b[39m=\u001b[39m obj\u001b[39m.\u001b[39mastype(\u001b[39mobject\u001b[39m)\u001b[39m.\u001b[39m_values\n\u001b[0;32m   1132\u001b[0m         \u001b[39m# error: Argument 2 to \"map_infer\" has incompatible type\u001b[39;00m\n\u001b[0;32m   1133\u001b[0m         \u001b[39m# \"Union[Callable[..., Any], str, List[Union[Callable[..., Any], str]],\u001b[39;00m\n\u001b[0;32m   1134\u001b[0m         \u001b[39m# Dict[Hashable, Union[Union[Callable[..., Any], str],\u001b[39;00m\n\u001b[0;32m   1135\u001b[0m         \u001b[39m# List[Union[Callable[..., Any], str]]]]]\"; expected\u001b[39;00m\n\u001b[0;32m   1136\u001b[0m         \u001b[39m# \"Callable[[Any], Any]\"\u001b[39;00m\n\u001b[1;32m-> 1137\u001b[0m         mapped \u001b[39m=\u001b[39m lib\u001b[39m.\u001b[39;49mmap_infer(\n\u001b[0;32m   1138\u001b[0m             values,\n\u001b[0;32m   1139\u001b[0m             f,  \u001b[39m# type: ignore[arg-type]\u001b[39;49;00m\n\u001b[0;32m   1140\u001b[0m             convert\u001b[39m=\u001b[39;49m\u001b[39mself\u001b[39;49m\u001b[39m.\u001b[39;49mconvert_dtype,\n\u001b[0;32m   1141\u001b[0m         )\n\u001b[0;32m   1143\u001b[0m \u001b[39mif\u001b[39;00m \u001b[39mlen\u001b[39m(mapped) \u001b[39mand\u001b[39;00m \u001b[39misinstance\u001b[39m(mapped[\u001b[39m0\u001b[39m], ABCSeries):\n\u001b[0;32m   1144\u001b[0m     \u001b[39m# GH#43986 Need to do list(mapped) in order to get treated as nested\u001b[39;00m\n\u001b[0;32m   1145\u001b[0m     \u001b[39m#  See also GH#25959 regarding EA support\u001b[39;00m\n\u001b[0;32m   1146\u001b[0m     \u001b[39mreturn\u001b[39;00m obj\u001b[39m.\u001b[39m_constructor_expanddim(\u001b[39mlist\u001b[39m(mapped), index\u001b[39m=\u001b[39mobj\u001b[39m.\u001b[39mindex)\n",
      "File \u001b[1;32m~\\AppData\\Local\\Packages\\PythonSoftwareFoundation.Python.3.9_qbz5n2kfra8p0\\LocalCache\\local-packages\\Python39\\site-packages\\pandas\\_libs\\lib.pyx:2870\u001b[0m, in \u001b[0;36mpandas._libs.lib.map_infer\u001b[1;34m()\u001b[0m\n",
      "\u001b[1;32mc:\\Users\\William\\Documents\\Clement\\Python\\Stock Price Prediction\\tsla_stock_prediction.ipynb Cell 4\u001b[0m in \u001b[0;36mstr_to_datetime\u001b[1;34m(s)\u001b[0m\n\u001b[0;32m      <a href='vscode-notebook-cell:/c%3A/Users/William/Documents/Clement/Python/Stock%20Price%20Prediction/tsla_stock_prediction.ipynb#W5sZmlsZQ%3D%3D?line=2'>3</a>\u001b[0m \u001b[39mdef\u001b[39;00m \u001b[39mstr_to_datetime\u001b[39m(s):\n\u001b[1;32m----> <a href='vscode-notebook-cell:/c%3A/Users/William/Documents/Clement/Python/Stock%20Price%20Prediction/tsla_stock_prediction.ipynb#W5sZmlsZQ%3D%3D?line=3'>4</a>\u001b[0m     split \u001b[39m=\u001b[39m s\u001b[39m.\u001b[39;49msplit(\u001b[39m'\u001b[39m\u001b[39m-\u001b[39m\u001b[39m'\u001b[39m)\n\u001b[0;32m      <a href='vscode-notebook-cell:/c%3A/Users/William/Documents/Clement/Python/Stock%20Price%20Prediction/tsla_stock_prediction.ipynb#W5sZmlsZQ%3D%3D?line=4'>5</a>\u001b[0m     year, month, day \u001b[39m=\u001b[39m \u001b[39mint\u001b[39m(split[\u001b[39m0\u001b[39m]), \u001b[39mint\u001b[39m(split[\u001b[39m1\u001b[39m]), \u001b[39mint\u001b[39m(split[\u001b[39m2\u001b[39m])\n\u001b[0;32m      <a href='vscode-notebook-cell:/c%3A/Users/William/Documents/Clement/Python/Stock%20Price%20Prediction/tsla_stock_prediction.ipynb#W5sZmlsZQ%3D%3D?line=5'>6</a>\u001b[0m     \u001b[39mreturn\u001b[39;00m datetime\u001b[39m.\u001b[39mdatetime(year\u001b[39m=\u001b[39myear, month\u001b[39m=\u001b[39mmonth, day\u001b[39m=\u001b[39mday)\n",
      "\u001b[1;31mAttributeError\u001b[0m: 'Timestamp' object has no attribute 'split'"
     ]
    }
   ],
   "source": [
    "df['Date'] = df['Date'].apply(str_to_datetime)\n",
    "df['Date']"
   ]
  },
  {
   "cell_type": "code",
   "execution_count": 28,
   "metadata": {},
   "outputs": [
    {
     "data": {
      "text/html": [
       "<div>\n",
       "<style scoped>\n",
       "    .dataframe tbody tr th:only-of-type {\n",
       "        vertical-align: middle;\n",
       "    }\n",
       "\n",
       "    .dataframe tbody tr th {\n",
       "        vertical-align: top;\n",
       "    }\n",
       "\n",
       "    .dataframe thead th {\n",
       "        text-align: right;\n",
       "    }\n",
       "</style>\n",
       "<table border=\"1\" class=\"dataframe\">\n",
       "  <thead>\n",
       "    <tr style=\"text-align: right;\">\n",
       "      <th></th>\n",
       "      <th>Close</th>\n",
       "    </tr>\n",
       "    <tr>\n",
       "      <th>Date</th>\n",
       "      <th></th>\n",
       "    </tr>\n",
       "  </thead>\n",
       "  <tbody>\n",
       "    <tr>\n",
       "      <th>2010-06-29</th>\n",
       "      <td>1.592667</td>\n",
       "    </tr>\n",
       "    <tr>\n",
       "      <th>2010-06-30</th>\n",
       "      <td>1.588667</td>\n",
       "    </tr>\n",
       "    <tr>\n",
       "      <th>2010-07-01</th>\n",
       "      <td>1.464000</td>\n",
       "    </tr>\n",
       "    <tr>\n",
       "      <th>2010-07-02</th>\n",
       "      <td>1.280000</td>\n",
       "    </tr>\n",
       "    <tr>\n",
       "      <th>2010-07-06</th>\n",
       "      <td>1.074000</td>\n",
       "    </tr>\n",
       "    <tr>\n",
       "      <th>...</th>\n",
       "      <td>...</td>\n",
       "    </tr>\n",
       "    <tr>\n",
       "      <th>2022-08-29</th>\n",
       "      <td>284.820007</td>\n",
       "    </tr>\n",
       "    <tr>\n",
       "      <th>2022-08-30</th>\n",
       "      <td>277.700012</td>\n",
       "    </tr>\n",
       "    <tr>\n",
       "      <th>2022-08-31</th>\n",
       "      <td>275.609985</td>\n",
       "    </tr>\n",
       "    <tr>\n",
       "      <th>2022-09-01</th>\n",
       "      <td>277.160004</td>\n",
       "    </tr>\n",
       "    <tr>\n",
       "      <th>2022-09-02</th>\n",
       "      <td>270.209991</td>\n",
       "    </tr>\n",
       "  </tbody>\n",
       "</table>\n",
       "<p>3068 rows × 1 columns</p>\n",
       "</div>"
      ],
      "text/plain": [
       "                 Close\n",
       "Date                  \n",
       "2010-06-29    1.592667\n",
       "2010-06-30    1.588667\n",
       "2010-07-01    1.464000\n",
       "2010-07-02    1.280000\n",
       "2010-07-06    1.074000\n",
       "...                ...\n",
       "2022-08-29  284.820007\n",
       "2022-08-30  277.700012\n",
       "2022-08-31  275.609985\n",
       "2022-09-01  277.160004\n",
       "2022-09-02  270.209991\n",
       "\n",
       "[3068 rows x 1 columns]"
      ]
     },
     "execution_count": 28,
     "metadata": {},
     "output_type": "execute_result"
    }
   ],
   "source": [
    "df.index = df.pop('Date')\n",
    "df"
   ]
  },
  {
   "cell_type": "code",
   "execution_count": 29,
   "metadata": {},
   "outputs": [
    {
     "data": {
      "text/plain": [
       "[<matplotlib.lines.Line2D at 0x219d1187e80>]"
      ]
     },
     "execution_count": 29,
     "metadata": {},
     "output_type": "execute_result"
    },
    {
     "data": {
      "image/png": "[encoded data removed]",
      "text/plain": [
       "<Figure size 432x288 with 1 Axes>"
      ]
     },
     "metadata": {
      "needs_background": "light"
     },
     "output_type": "display_data"
    }
   ],
   "source": [
    "import matplotlib.pyplot as plt\n",
    "\n",
    "plt.plot(df.index, df['Close'])"
   ]
  },
  {
   "cell_type": "code",
   "execution_count": 36,
   "metadata": {},
   "outputs": [
    {
     "data": {
      "text/html": [
       "<div>\n",
       "<style scoped>\n",
       "    .dataframe tbody tr th:only-of-type {\n",
       "        vertical-align: middle;\n",
       "    }\n",
       "\n",
       "    .dataframe tbody tr th {\n",
       "        vertical-align: top;\n",
       "    }\n",
       "\n",
       "    .dataframe thead th {\n",
       "        text-align: right;\n",
       "    }\n",
       "</style>\n",
       "<table border=\"1\" class=\"dataframe\">\n",
       "  <thead>\n",
       "    <tr style=\"text-align: right;\">\n",
       "      <th></th>\n",
       "      <th>Target Date</th>\n",
       "      <th>Target-3</th>\n",
       "      <th>Target-2</th>\n",
       "      <th>Target-1</th>\n",
       "      <th>Target</th>\n",
       "    </tr>\n",
       "  </thead>\n",
       "  <tbody>\n",
       "    <tr>\n",
       "      <th>0</th>\n",
       "      <td>2010-07-02</td>\n",
       "      <td>1.592667</td>\n",
       "      <td>1.588667</td>\n",
       "      <td>1.464000</td>\n",
       "      <td>1.280000</td>\n",
       "    </tr>\n",
       "    <tr>\n",
       "      <th>1</th>\n",
       "      <td>2010-07-06</td>\n",
       "      <td>1.588667</td>\n",
       "      <td>1.464000</td>\n",
       "      <td>1.280000</td>\n",
       "      <td>1.074000</td>\n",
       "    </tr>\n",
       "    <tr>\n",
       "      <th>2</th>\n",
       "      <td>2010-07-07</td>\n",
       "      <td>1.464000</td>\n",
       "      <td>1.280000</td>\n",
       "      <td>1.074000</td>\n",
       "      <td>1.053333</td>\n",
       "    </tr>\n",
       "    <tr>\n",
       "      <th>3</th>\n",
       "      <td>2010-07-08</td>\n",
       "      <td>1.280000</td>\n",
       "      <td>1.074000</td>\n",
       "      <td>1.053333</td>\n",
       "      <td>1.164000</td>\n",
       "    </tr>\n",
       "    <tr>\n",
       "      <th>4</th>\n",
       "      <td>2010-07-09</td>\n",
       "      <td>1.074000</td>\n",
       "      <td>1.053333</td>\n",
       "      <td>1.164000</td>\n",
       "      <td>1.160000</td>\n",
       "    </tr>\n",
       "    <tr>\n",
       "      <th>...</th>\n",
       "      <td>...</td>\n",
       "      <td>...</td>\n",
       "      <td>...</td>\n",
       "      <td>...</td>\n",
       "      <td>...</td>\n",
       "    </tr>\n",
       "    <tr>\n",
       "      <th>3060</th>\n",
       "      <td>2022-08-29</td>\n",
       "      <td>297.096680</td>\n",
       "      <td>296.070007</td>\n",
       "      <td>288.089996</td>\n",
       "      <td>284.820007</td>\n",
       "    </tr>\n",
       "    <tr>\n",
       "      <th>3061</th>\n",
       "      <td>2022-08-30</td>\n",
       "      <td>296.070007</td>\n",
       "      <td>288.089996</td>\n",
       "      <td>284.820007</td>\n",
       "      <td>277.700012</td>\n",
       "    </tr>\n",
       "    <tr>\n",
       "      <th>3062</th>\n",
       "      <td>2022-08-31</td>\n",
       "      <td>288.089996</td>\n",
       "      <td>284.820007</td>\n",
       "      <td>277.700012</td>\n",
       "      <td>275.609985</td>\n",
       "    </tr>\n",
       "    <tr>\n",
       "      <th>3063</th>\n",
       "      <td>2022-09-01</td>\n",
       "      <td>284.820007</td>\n",
       "      <td>277.700012</td>\n",
       "      <td>275.609985</td>\n",
       "      <td>277.160004</td>\n",
       "    </tr>\n",
       "    <tr>\n",
       "      <th>3064</th>\n",
       "      <td>2022-09-02</td>\n",
       "      <td>277.700012</td>\n",
       "      <td>275.609985</td>\n",
       "      <td>277.160004</td>\n",
       "      <td>270.209991</td>\n",
       "    </tr>\n",
       "  </tbody>\n",
       "</table>\n",
       "<p>3065 rows × 5 columns</p>\n",
       "</div>"
      ],
      "text/plain": [
       "     Target Date    Target-3    Target-2    Target-1      Target\n",
       "0     2010-07-02    1.592667    1.588667    1.464000    1.280000\n",
       "1     2010-07-06    1.588667    1.464000    1.280000    1.074000\n",
       "2     2010-07-07    1.464000    1.280000    1.074000    1.053333\n",
       "3     2010-07-08    1.280000    1.074000    1.053333    1.164000\n",
       "4     2010-07-09    1.074000    1.053333    1.164000    1.160000\n",
       "...          ...         ...         ...         ...         ...\n",
       "3060  2022-08-29  297.096680  296.070007  288.089996  284.820007\n",
       "3061  2022-08-30  296.070007  288.089996  284.820007  277.700012\n",
       "3062  2022-08-31  288.089996  284.820007  277.700012  275.609985\n",
       "3063  2022-09-01  284.820007  277.700012  275.609985  277.160004\n",
       "3064  2022-09-02  277.700012  275.609985  277.160004  270.209991\n",
       "\n",
       "[3065 rows x 5 columns]"
      ]
     },
     "execution_count": 36,
     "metadata": {},
     "output_type": "execute_result"
    }
   ],
   "source": [
    "import numpy as np\n",
    "\n",
    "def df_to_windowed_df(dataframe, first_date_str, last_date_str, n=3):\n",
    "    first_date = str_to_datetime(first_date_str)\n",
    "    last_date  = str_to_datetime(last_date_str)\n",
    "\n",
    "    target_date = first_date\n",
    "  \n",
    "    dates = []\n",
    "    X, Y = [], []\n",
    "\n",
    "    last_time = False\n",
    "    while True:\n",
    "        df_subset = dataframe.loc[:target_date].tail(n+1)\n",
    "    \n",
    "        if len(df_subset) != n+1:\n",
    "            print(f'Error: Window of size {n} is too large for date {target_date}')\n",
    "            return\n",
    "\n",
    "        values = df_subset['Close'].to_numpy()\n",
    "        x, y = values[:-1], values[-1]\n",
    "\n",
    "        dates.append(target_date)\n",
    "        X.append(x)\n",
    "        Y.append(y)\n",
    "\n",
    "        next_week = dataframe.loc[target_date:target_date+datetime.timedelta(days=7)]\n",
    "        next_datetime_str = str(next_week.head(2).tail(1).index.values[0])\n",
    "        next_date_str = next_datetime_str.split('T')[0]\n",
    "        year_month_day = next_date_str.split('-')\n",
    "        year, month, day = year_month_day\n",
    "        next_date = datetime.datetime(day=int(day), month=int(month), year=int(year))\n",
    "    \n",
    "        if last_time:\n",
    "            break\n",
    "    \n",
    "        target_date = next_date\n",
    "\n",
    "        if target_date == last_date:\n",
    "            last_time = True\n",
    "    \n",
    "    ret_df = pd.DataFrame({})\n",
    "    ret_df['Target Date'] = dates\n",
    "  \n",
    "    X = np.array(X)\n",
    "    for i in range(0, n):\n",
    "        X[:, i]\n",
    "        ret_df[f'Target-{n-i}'] = X[:, i]\n",
    "  \n",
    "    ret_df['Target'] = Y\n",
    "\n",
    "    return ret_df\n",
    "\n",
    "\n",
    "windowed_df = df_to_windowed_df(df, \n",
    "                                '2010-07-02', \n",
    "                                '2022-09-02', \n",
    "                                n=3)\n",
    "windowed_df"
   ]
  },
  {
   "cell_type": "code",
   "execution_count": 39,
   "metadata": {},
   "outputs": [
    {
     "data": {
      "text/plain": [
       "((3065,), (3065, 3, 1), (3065,))"
      ]
     },
     "execution_count": 39,
     "metadata": {},
     "output_type": "execute_result"
    }
   ],
   "source": [
    "def windowed_df_to_date_X_Y(windowed_dataframe):\n",
    "    df_as_np = windowed_dataframe.to_numpy()\n",
    "\n",
    "    dates = df_as_np[:, 0]\n",
    "\n",
    "    middle_matrix = df_as_np[:, 1:-1]\n",
    "    X = middle_matrix.reshape((len(dates), middle_matrix.shape[1], 1))\n",
    "\n",
    "    Y = df_as_np[:, -1]\n",
    "\n",
    "    return dates, X.astype(np.float32), Y.astype(np.float32)\n",
    "\n",
    "dates, X, y = windowed_df_to_date_X_Y(windowed_df)\n",
    "\n",
    "dates.shape, X.shape, y.shape"
   ]
  },
  {
   "cell_type": "code",
   "execution_count": 41,
   "metadata": {},
   "outputs": [
    {
     "data": {
      "text/plain": [
       "<matplotlib.legend.Legend at 0x219d39c3a90>"
      ]
     },
     "execution_count": 41,
     "metadata": {},
     "output_type": "execute_result"
    },
    {
     "data": {
      "image/png": "[encoded data removed]",
      "text/plain": [
       "<Figure size 432x288 with 1 Axes>"
      ]
     },
     "metadata": {
      "needs_background": "light"
     },
     "output_type": "display_data"
    }
   ],
   "source": [
    "q_80 = int(len(dates) * 0.8)\n",
    "q_90 = int(len(dates) * 0.9)\n",
    "\n",
    "dates_train, X_train, y_train = dates[:q_80], X[:q_80], y[:q_80]\n",
    "\n",
    "dates_val, X_val, y_val = dates[q_80:q_90], X[q_80:q_90], y[q_80:q_90]\n",
    "\n",
    "dates_test, X_test, y_test = dates[q_90:], X[q_90:], y[q_90:]\n",
    "\n",
    "plt.plot(dates_train, y_train)\n",
    "plt.plot(dates_val, y_val)\n",
    "plt.plot(dates_test, y_test)\n",
    "\n",
    "plt.legend(['Train', 'Validation', 'Test'])"
   ]
  },
  {
   "cell_type": "code",
   "execution_count": 44,
   "metadata": {},
   "outputs": [
    {
     "name": "stdout",
     "output_type": "stream",
     "text": [
      "Epoch 1/100\n",
      "77/77 [==============================] - 5s 18ms/step - loss: 105.8845 - mean_absolute_error: 7.1578 - val_loss: 26425.6348 - val_mean_absolute_error: 143.6546\n",
      "Epoch 2/100\n",
      "77/77 [==============================] - 1s 7ms/step - loss: 8.2458 - mean_absolute_error: 0.9118 - val_loss: 21270.6641 - val_mean_absolute_error: 123.8653\n",
      "Epoch 3/100\n",
      "77/77 [==============================] - 0s 6ms/step - loss: 1.1199 - mean_absolute_error: 0.4189 - val_loss: 18650.9277 - val_mean_absolute_error: 113.1708\n",
      "Epoch 4/100\n",
      "77/77 [==============================] - 1s 7ms/step - loss: 0.5865 - mean_absolute_error: 0.3736 - val_loss: 17878.4727 - val_mean_absolute_error: 110.0355\n",
      "Epoch 5/100\n",
      "77/77 [==============================] - 1s 7ms/step - loss: 0.5100 - mean_absolute_error: 0.3494 - val_loss: 17456.1699 - val_mean_absolute_error: 108.3179\n",
      "Epoch 6/100\n",
      "77/77 [==============================] - 0s 6ms/step - loss: 0.5535 - mean_absolute_error: 0.3750 - val_loss: 17334.3555 - val_mean_absolute_error: 107.8047\n",
      "Epoch 7/100\n",
      "77/77 [==============================] - 1s 7ms/step - loss: 0.4878 - mean_absolute_error: 0.3577 - val_loss: 17317.1543 - val_mean_absolute_error: 108.0089\n",
      "Epoch 8/100\n",
      "77/77 [==============================] - 1s 7ms/step - loss: 0.5200 - mean_absolute_error: 0.3798 - val_loss: 17102.9414 - val_mean_absolute_error: 107.1539\n",
      "Epoch 9/100\n",
      "77/77 [==============================] - 1s 6ms/step - loss: 0.5114 - mean_absolute_error: 0.3721 - val_loss: 16887.2656 - val_mean_absolute_error: 106.1156\n",
      "Epoch 10/100\n",
      "77/77 [==============================] - 0s 6ms/step - loss: 0.4840 - mean_absolute_error: 0.3585 - val_loss: 16753.0801 - val_mean_absolute_error: 105.5576\n",
      "Epoch 11/100\n",
      "77/77 [==============================] - 0s 6ms/step - loss: 0.5048 - mean_absolute_error: 0.3592 - val_loss: 16654.2852 - val_mean_absolute_error: 105.1842\n",
      "Epoch 12/100\n",
      "77/77 [==============================] - 1s 7ms/step - loss: 0.5337 - mean_absolute_error: 0.3970 - val_loss: 16486.3105 - val_mean_absolute_error: 104.5191\n",
      "Epoch 13/100\n",
      "77/77 [==============================] - 1s 7ms/step - loss: 0.5626 - mean_absolute_error: 0.3975 - val_loss: 16962.4258 - val_mean_absolute_error: 107.4193\n",
      "Epoch 14/100\n",
      "77/77 [==============================] - 1s 8ms/step - loss: 0.5290 - mean_absolute_error: 0.3854 - val_loss: 16394.7168 - val_mean_absolute_error: 104.1801\n",
      "Epoch 15/100\n",
      "77/77 [==============================] - 1s 7ms/step - loss: 0.5489 - mean_absolute_error: 0.4008 - val_loss: 16369.8545 - val_mean_absolute_error: 104.1028\n",
      "Epoch 16/100\n",
      "77/77 [==============================] - 0s 6ms/step - loss: 0.5143 - mean_absolute_error: 0.3731 - val_loss: 16554.1309 - val_mean_absolute_error: 105.0956\n",
      "Epoch 17/100\n",
      "77/77 [==============================] - 1s 7ms/step - loss: 0.4923 - mean_absolute_error: 0.3619 - val_loss: 16330.2256 - val_mean_absolute_error: 103.9279\n",
      "Epoch 18/100\n",
      "77/77 [==============================] - 0s 6ms/step - loss: 0.4915 - mean_absolute_error: 0.3728 - val_loss: 16294.1094 - val_mean_absolute_error: 103.7726\n",
      "Epoch 19/100\n",
      "77/77 [==============================] - 0s 6ms/step - loss: 0.4784 - mean_absolute_error: 0.3532 - val_loss: 16510.2441 - val_mean_absolute_error: 104.6283\n",
      "Epoch 20/100\n",
      "77/77 [==============================] - 1s 8ms/step - loss: 0.4758 - mean_absolute_error: 0.3466 - val_loss: 16446.2480 - val_mean_absolute_error: 104.5640\n",
      "Epoch 21/100\n",
      "77/77 [==============================] - 1s 6ms/step - loss: 0.5140 - mean_absolute_error: 0.3595 - val_loss: 16349.5850 - val_mean_absolute_error: 104.0329\n",
      "Epoch 22/100\n",
      "77/77 [==============================] - 0s 6ms/step - loss: 0.4537 - mean_absolute_error: 0.3365 - val_loss: 16367.3740 - val_mean_absolute_error: 104.0801\n",
      "Epoch 23/100\n",
      "77/77 [==============================] - 0s 6ms/step - loss: 0.4631 - mean_absolute_error: 0.3725 - val_loss: 16509.8750 - val_mean_absolute_error: 105.1300\n",
      "Epoch 24/100\n",
      "77/77 [==============================] - 0s 6ms/step - loss: 0.5164 - mean_absolute_error: 0.3726 - val_loss: 16334.9639 - val_mean_absolute_error: 104.2848\n",
      "Epoch 25/100\n",
      "77/77 [==============================] - 0s 6ms/step - loss: 0.5293 - mean_absolute_error: 0.4038 - val_loss: 16035.2275 - val_mean_absolute_error: 102.7781\n",
      "Epoch 26/100\n",
      "77/77 [==============================] - 1s 7ms/step - loss: 0.5355 - mean_absolute_error: 0.3885 - val_loss: 16313.4678 - val_mean_absolute_error: 103.9212\n",
      "Epoch 27/100\n",
      "77/77 [==============================] - 1s 9ms/step - loss: 0.4621 - mean_absolute_error: 0.3402 - val_loss: 16148.5879 - val_mean_absolute_error: 103.2114\n",
      "Epoch 28/100\n",
      "77/77 [==============================] - 0s 6ms/step - loss: 0.4689 - mean_absolute_error: 0.3647 - val_loss: 15972.5586 - val_mean_absolute_error: 102.5461\n",
      "Epoch 29/100\n",
      "77/77 [==============================] - 0s 6ms/step - loss: 0.5379 - mean_absolute_error: 0.4093 - val_loss: 15975.3232 - val_mean_absolute_error: 102.5649\n",
      "Epoch 30/100\n",
      "77/77 [==============================] - 1s 8ms/step - loss: 0.4746 - mean_absolute_error: 0.3650 - val_loss: 16087.9414 - val_mean_absolute_error: 103.2115\n",
      "Epoch 31/100\n",
      "77/77 [==============================] - 1s 8ms/step - loss: 0.4869 - mean_absolute_error: 0.3513 - val_loss: 15845.2275 - val_mean_absolute_error: 102.0366\n",
      "Epoch 32/100\n",
      "77/77 [==============================] - 1s 7ms/step - loss: 0.4674 - mean_absolute_error: 0.3597 - val_loss: 15979.5996 - val_mean_absolute_error: 102.6195\n",
      "Epoch 33/100\n",
      "77/77 [==============================] - 1s 7ms/step - loss: 0.4394 - mean_absolute_error: 0.3340 - val_loss: 15965.1895 - val_mean_absolute_error: 102.8931\n",
      "Epoch 34/100\n",
      "77/77 [==============================] - 1s 8ms/step - loss: 0.4563 - mean_absolute_error: 0.3617 - val_loss: 15836.7598 - val_mean_absolute_error: 101.9964\n",
      "Epoch 35/100\n",
      "77/77 [==============================] - 1s 10ms/step - loss: 0.4524 - mean_absolute_error: 0.3470 - val_loss: 16011.2480 - val_mean_absolute_error: 102.7240\n",
      "Epoch 36/100\n",
      "77/77 [==============================] - 1s 14ms/step - loss: 0.4642 - mean_absolute_error: 0.3614 - val_loss: 16002.5684 - val_mean_absolute_error: 102.7694\n",
      "Epoch 37/100\n",
      "77/77 [==============================] - 1s 8ms/step - loss: 0.4713 - mean_absolute_error: 0.3501 - val_loss: 15630.4678 - val_mean_absolute_error: 101.2284\n",
      "Epoch 38/100\n",
      "77/77 [==============================] - 1s 8ms/step - loss: 0.4618 - mean_absolute_error: 0.3701 - val_loss: 15858.2529 - val_mean_absolute_error: 102.2600\n",
      "Epoch 39/100\n",
      "77/77 [==============================] - 1s 9ms/step - loss: 0.4690 - mean_absolute_error: 0.3568 - val_loss: 15935.4658 - val_mean_absolute_error: 102.6461\n",
      "Epoch 40/100\n",
      "77/77 [==============================] - 1s 9ms/step - loss: 0.4435 - mean_absolute_error: 0.3381 - val_loss: 15765.9297 - val_mean_absolute_error: 101.9006\n",
      "Epoch 41/100\n",
      "77/77 [==============================] - 1s 14ms/step - loss: 0.4876 - mean_absolute_error: 0.3572 - val_loss: 15824.7256 - val_mean_absolute_error: 102.2644\n",
      "Epoch 42/100\n",
      "77/77 [==============================] - 1s 14ms/step - loss: 0.4707 - mean_absolute_error: 0.3523 - val_loss: 15728.9980 - val_mean_absolute_error: 101.7798\n",
      "Epoch 43/100\n",
      "77/77 [==============================] - 1s 11ms/step - loss: 0.4858 - mean_absolute_error: 0.3735 - val_loss: 15671.6816 - val_mean_absolute_error: 101.5050\n",
      "Epoch 44/100\n",
      "77/77 [==============================] - 1s 13ms/step - loss: 0.5086 - mean_absolute_error: 0.3873 - val_loss: 15337.4785 - val_mean_absolute_error: 100.1938\n",
      "Epoch 45/100\n",
      "77/77 [==============================] - 1s 11ms/step - loss: 0.4853 - mean_absolute_error: 0.3632 - val_loss: 15591.1582 - val_mean_absolute_error: 101.4298\n",
      "Epoch 46/100\n",
      "77/77 [==============================] - 1s 10ms/step - loss: 0.5430 - mean_absolute_error: 0.4160 - val_loss: 15489.3037 - val_mean_absolute_error: 100.8554\n",
      "Epoch 47/100\n",
      "77/77 [==============================] - 1s 11ms/step - loss: 0.5047 - mean_absolute_error: 0.3573 - val_loss: 15524.5879 - val_mean_absolute_error: 101.0404\n",
      "Epoch 48/100\n",
      "77/77 [==============================] - 1s 9ms/step - loss: 0.4523 - mean_absolute_error: 0.3358 - val_loss: 15320.1260 - val_mean_absolute_error: 100.1970\n",
      "Epoch 49/100\n",
      "77/77 [==============================] - 1s 12ms/step - loss: 0.5211 - mean_absolute_error: 0.3915 - val_loss: 15195.1826 - val_mean_absolute_error: 99.9362\n",
      "Epoch 50/100\n",
      "77/77 [==============================] - 1s 13ms/step - loss: 0.4776 - mean_absolute_error: 0.3801 - val_loss: 15346.4736 - val_mean_absolute_error: 100.5186\n",
      "Epoch 51/100\n",
      "77/77 [==============================] - 1s 12ms/step - loss: 0.5280 - mean_absolute_error: 0.3971 - val_loss: 15177.7988 - val_mean_absolute_error: 99.9258\n",
      "Epoch 52/100\n",
      "77/77 [==============================] - 1s 9ms/step - loss: 0.5599 - mean_absolute_error: 0.4077 - val_loss: 15386.0430 - val_mean_absolute_error: 100.6191\n",
      "Epoch 53/100\n",
      "77/77 [==============================] - 1s 9ms/step - loss: 0.4736 - mean_absolute_error: 0.3606 - val_loss: 15279.5635 - val_mean_absolute_error: 100.2483\n",
      "Epoch 54/100\n",
      "77/77 [==============================] - 1s 11ms/step - loss: 0.4948 - mean_absolute_error: 0.3694 - val_loss: 15241.4932 - val_mean_absolute_error: 100.0663\n",
      "Epoch 55/100\n",
      "77/77 [==============================] - 1s 9ms/step - loss: 0.4785 - mean_absolute_error: 0.3577 - val_loss: 15167.3418 - val_mean_absolute_error: 99.9751\n",
      "Epoch 56/100\n",
      "77/77 [==============================] - 1s 10ms/step - loss: 0.4734 - mean_absolute_error: 0.3597 - val_loss: 14920.3984 - val_mean_absolute_error: 98.8664\n",
      "Epoch 57/100\n",
      "77/77 [==============================] - 1s 13ms/step - loss: 0.4933 - mean_absolute_error: 0.3794 - val_loss: 14925.4277 - val_mean_absolute_error: 98.9524\n",
      "Epoch 58/100\n",
      "77/77 [==============================] - 1s 9ms/step - loss: 0.4400 - mean_absolute_error: 0.3351 - val_loss: 15029.0166 - val_mean_absolute_error: 99.3771\n",
      "Epoch 59/100\n",
      "77/77 [==============================] - 1s 12ms/step - loss: 0.4830 - mean_absolute_error: 0.3704 - val_loss: 15149.9980 - val_mean_absolute_error: 99.8776\n",
      "Epoch 60/100\n",
      "77/77 [==============================] - 1s 9ms/step - loss: 0.4868 - mean_absolute_error: 0.3673 - val_loss: 14903.5674 - val_mean_absolute_error: 98.7611\n",
      "Epoch 61/100\n",
      "77/77 [==============================] - 1s 12ms/step - loss: 0.4955 - mean_absolute_error: 0.3834 - val_loss: 14928.5586 - val_mean_absolute_error: 98.8631\n",
      "Epoch 62/100\n",
      "77/77 [==============================] - 1s 8ms/step - loss: 0.4984 - mean_absolute_error: 0.3816 - val_loss: 15328.0225 - val_mean_absolute_error: 100.7078\n",
      "Epoch 63/100\n",
      "77/77 [==============================] - 1s 11ms/step - loss: 0.5267 - mean_absolute_error: 0.3875 - val_loss: 14893.1582 - val_mean_absolute_error: 98.8969\n",
      "Epoch 64/100\n",
      "77/77 [==============================] - 1s 11ms/step - loss: 0.5345 - mean_absolute_error: 0.3907 - val_loss: 14830.6914 - val_mean_absolute_error: 98.6052\n",
      "Epoch 65/100\n",
      "77/77 [==============================] - 1s 8ms/step - loss: 0.4915 - mean_absolute_error: 0.3616 - val_loss: 14865.0488 - val_mean_absolute_error: 98.7006\n",
      "Epoch 66/100\n",
      "77/77 [==============================] - 1s 7ms/step - loss: 0.4804 - mean_absolute_error: 0.3579 - val_loss: 14647.7236 - val_mean_absolute_error: 97.8188\n",
      "Epoch 67/100\n",
      "77/77 [==============================] - 1s 8ms/step - loss: 0.5000 - mean_absolute_error: 0.3664 - val_loss: 14863.2988 - val_mean_absolute_error: 98.8471\n",
      "Epoch 68/100\n",
      "77/77 [==============================] - 1s 8ms/step - loss: 0.4997 - mean_absolute_error: 0.3693 - val_loss: 15114.5322 - val_mean_absolute_error: 100.0812\n",
      "Epoch 69/100\n",
      "77/77 [==============================] - 1s 9ms/step - loss: 0.4669 - mean_absolute_error: 0.3591 - val_loss: 15364.0781 - val_mean_absolute_error: 100.9953\n",
      "Epoch 70/100\n",
      "77/77 [==============================] - 1s 10ms/step - loss: 0.4392 - mean_absolute_error: 0.3359 - val_loss: 14852.0635 - val_mean_absolute_error: 98.7415\n",
      "Epoch 71/100\n",
      "77/77 [==============================] - 1s 10ms/step - loss: 0.4676 - mean_absolute_error: 0.3615 - val_loss: 14784.3271 - val_mean_absolute_error: 98.4875\n",
      "Epoch 72/100\n",
      "77/77 [==============================] - 1s 9ms/step - loss: 0.4814 - mean_absolute_error: 0.3724 - val_loss: 14632.6260 - val_mean_absolute_error: 97.8811\n",
      "Epoch 73/100\n",
      "77/77 [==============================] - 1s 11ms/step - loss: 0.4670 - mean_absolute_error: 0.3684 - val_loss: 15413.4639 - val_mean_absolute_error: 101.2401\n",
      "Epoch 74/100\n",
      "77/77 [==============================] - 1s 11ms/step - loss: 0.4551 - mean_absolute_error: 0.3392 - val_loss: 14754.2383 - val_mean_absolute_error: 98.3770\n",
      "Epoch 75/100\n",
      "77/77 [==============================] - 1s 10ms/step - loss: 0.4744 - mean_absolute_error: 0.3634 - val_loss: 15108.2520 - val_mean_absolute_error: 100.0383\n",
      "Epoch 76/100\n",
      "77/77 [==============================] - 1s 11ms/step - loss: 0.4772 - mean_absolute_error: 0.3707 - val_loss: 15096.3320 - val_mean_absolute_error: 99.9071\n",
      "Epoch 77/100\n",
      "77/77 [==============================] - 1s 10ms/step - loss: 0.4405 - mean_absolute_error: 0.3436 - val_loss: 14459.2334 - val_mean_absolute_error: 97.1744\n",
      "Epoch 78/100\n",
      "77/77 [==============================] - 1s 9ms/step - loss: 0.4815 - mean_absolute_error: 0.3619 - val_loss: 14878.6406 - val_mean_absolute_error: 99.0149\n",
      "Epoch 79/100\n",
      "77/77 [==============================] - 1s 9ms/step - loss: 0.4896 - mean_absolute_error: 0.3592 - val_loss: 15026.6279 - val_mean_absolute_error: 99.5340\n",
      "Epoch 80/100\n",
      "77/77 [==============================] - 1s 10ms/step - loss: 0.4581 - mean_absolute_error: 0.3409 - val_loss: 14714.9121 - val_mean_absolute_error: 98.2663\n",
      "Epoch 81/100\n",
      "77/77 [==============================] - 1s 10ms/step - loss: 0.4581 - mean_absolute_error: 0.3459 - val_loss: 14697.9424 - val_mean_absolute_error: 98.2122\n",
      "Epoch 82/100\n",
      "77/77 [==============================] - 1s 12ms/step - loss: 0.4671 - mean_absolute_error: 0.3573 - val_loss: 14975.7988 - val_mean_absolute_error: 99.7042\n",
      "Epoch 83/100\n",
      "77/77 [==============================] - 1s 9ms/step - loss: 0.4744 - mean_absolute_error: 0.3705 - val_loss: 14690.2695 - val_mean_absolute_error: 98.1802\n",
      "Epoch 84/100\n",
      "77/77 [==============================] - 1s 11ms/step - loss: 0.4659 - mean_absolute_error: 0.3479 - val_loss: 14891.8252 - val_mean_absolute_error: 99.1949\n",
      "Epoch 85/100\n",
      "77/77 [==============================] - 1s 9ms/step - loss: 0.4771 - mean_absolute_error: 0.3632 - val_loss: 14681.6914 - val_mean_absolute_error: 98.1336\n",
      "Epoch 86/100\n",
      "77/77 [==============================] - 1s 7ms/step - loss: 0.4905 - mean_absolute_error: 0.3568 - val_loss: 14678.1670 - val_mean_absolute_error: 98.1933\n",
      "Epoch 87/100\n",
      "77/77 [==============================] - 1s 9ms/step - loss: 0.4527 - mean_absolute_error: 0.3445 - val_loss: 14392.3711 - val_mean_absolute_error: 96.9702\n",
      "Epoch 88/100\n",
      "77/77 [==============================] - 1s 10ms/step - loss: 0.4786 - mean_absolute_error: 0.3638 - val_loss: 14654.4150 - val_mean_absolute_error: 98.1198\n",
      "Epoch 89/100\n",
      "77/77 [==============================] - 1s 9ms/step - loss: 0.4867 - mean_absolute_error: 0.3659 - val_loss: 14453.0732 - val_mean_absolute_error: 97.2613\n",
      "Epoch 90/100\n",
      "77/77 [==============================] - 1s 12ms/step - loss: 0.5080 - mean_absolute_error: 0.3735 - val_loss: 14507.3184 - val_mean_absolute_error: 97.4507\n",
      "Epoch 91/100\n",
      "77/77 [==============================] - 1s 10ms/step - loss: 0.4596 - mean_absolute_error: 0.3463 - val_loss: 14770.0078 - val_mean_absolute_error: 98.5835\n",
      "Epoch 92/100\n",
      "77/77 [==============================] - 1s 9ms/step - loss: 0.4587 - mean_absolute_error: 0.3432 - val_loss: 14788.7842 - val_mean_absolute_error: 98.7486\n",
      "Epoch 93/100\n",
      "77/77 [==============================] - 1s 9ms/step - loss: 0.4528 - mean_absolute_error: 0.3356 - val_loss: 14432.3418 - val_mean_absolute_error: 97.1401\n",
      "Epoch 94/100\n",
      "77/77 [==============================] - 1s 8ms/step - loss: 0.4868 - mean_absolute_error: 0.3763 - val_loss: 14607.4521 - val_mean_absolute_error: 98.0346\n",
      "Epoch 95/100\n",
      "77/77 [==============================] - 1s 11ms/step - loss: 0.4639 - mean_absolute_error: 0.3351 - val_loss: 14682.9561 - val_mean_absolute_error: 98.2073\n",
      "Epoch 96/100\n",
      "77/77 [==============================] - 1s 7ms/step - loss: 0.4852 - mean_absolute_error: 0.3558 - val_loss: 14486.4609 - val_mean_absolute_error: 97.3700\n",
      "Epoch 97/100\n",
      "77/77 [==============================] - 1s 9ms/step - loss: 0.4985 - mean_absolute_error: 0.3688 - val_loss: 14658.9248 - val_mean_absolute_error: 98.1746\n",
      "Epoch 98/100\n",
      "77/77 [==============================] - 1s 8ms/step - loss: 0.5176 - mean_absolute_error: 0.3984 - val_loss: 14353.1045 - val_mean_absolute_error: 96.8019\n",
      "Epoch 99/100\n",
      "77/77 [==============================] - 1s 11ms/step - loss: 0.4791 - mean_absolute_error: 0.3577 - val_loss: 14212.0977 - val_mean_absolute_error: 96.2984\n",
      "Epoch 100/100\n",
      "77/77 [==============================] - 1s 11ms/step - loss: 0.5241 - mean_absolute_error: 0.3723 - val_loss: 14385.3857 - val_mean_absolute_error: 96.9846\n"
     ]
    },
    {
     "data": {
      "text/plain": [
       "<keras.callbacks.History at 0x219eee13760>"
      ]
     },
     "execution_count": 44,
     "metadata": {},
     "output_type": "execute_result"
    }
   ],
   "source": [
    "from keras.models import Sequential\n",
    "from keras.optimizers import Adam\n",
    "from keras import layers\n",
    "\n",
    "model = Sequential([layers.Input((3,1)), layers.LSTM(64), layers.Dense(32, activation='relu'), layers.Dense(32, activation='relu'), layers.Dense(1)])\n",
    "\n",
    "model.compile(loss = 'mse', optimizer=Adam(learning_rate=0.001), metrics=['mean_absolute_error'])\n",
    "\n",
    "model.fit(X_train, y_train, validation_data=(X_val, y_val), epochs=100)\n"
   ]
  },
  {
   "cell_type": "code",
   "execution_count": 46,
   "metadata": {},
   "outputs": [
    {
     "name": "stdout",
     "output_type": "stream",
     "text": [
      "77/77 [==============================] - 0s 3ms/step\n"
     ]
    },
    {
     "data": {
      "text/plain": [
       "<matplotlib.legend.Legend at 0x219f15a3e50>"
      ]
     },
     "execution_count": 46,
     "metadata": {},
     "output_type": "execute_result"
    },
    {
     "data": {
      "image/png": "[encoded data removed]",
      "text/plain": [
       "<Figure size 432x288 with 1 Axes>"
      ]
     },
     "metadata": {
      "needs_background": "light"
     },
     "output_type": "display_data"
    }
   ],
   "source": [
    "train_predictions = model.predict(X_train).flatten()\n",
    "\n",
    "plt.plot(dates_train, train_predictions)\n",
    "plt.plot(dates_train, y_train)\n",
    "plt.legend(['Training Predictions', 'Training Observations'])"
   ]
  },
  {
   "cell_type": "code",
   "execution_count": 47,
   "metadata": {},
   "outputs": [
    {
     "name": "stdout",
     "output_type": "stream",
     "text": [
      "10/10 [==============================] - 0s 3ms/step\n"
     ]
    },
    {
     "data": {
      "text/plain": [
       "<matplotlib.legend.Legend at 0x219f2c1dd30>"
      ]
     },
     "execution_count": 47,
     "metadata": {},
     "output_type": "execute_result"
    },
    {
     "data": {
      "image/png": "[encoded data removed]",
      "text/plain": [
       "<Figure size 432x288 with 1 Axes>"
      ]
     },
     "metadata": {
      "needs_background": "light"
     },
     "output_type": "display_data"
    }
   ],
   "source": [
    "val_predictions = model.predict(X_val).flatten()\n",
    "\n",
    "plt.plot(dates_val, val_predictions)\n",
    "plt.plot(dates_val, y_val)\n",
    "plt.legend(['Validation Predictions', 'Validation Observations'])"
   ]
  },
  {
   "cell_type": "code",
   "execution_count": 48,
   "metadata": {},
   "outputs": [
    {
     "name": "stdout",
     "output_type": "stream",
     "text": [
      "10/10 [==============================] - 0s 2ms/step\n"
     ]
    },
    {
     "data": {
      "text/plain": [
       "<matplotlib.legend.Legend at 0x219f2c67fa0>"
      ]
     },
     "execution_count": 48,
     "metadata": {},
     "output_type": "execute_result"
    },
    {
     "data": {
      "image/png": "[encoded data removed]",
      "text/plain": [
       "<Figure size 432x288 with 1 Axes>"
      ]
     },
     "metadata": {
      "needs_background": "light"
     },
     "output_type": "display_data"
    }
   ],
   "source": [
    "test_predictions = model.predict(X_test).flatten()\n",
    "\n",
    "plt.plot(dates_test, test_predictions)\n",
    "plt.plot(dates_test, y_test)\n",
    "plt.legend(['Testing Predictions', 'Testing Observations'])"
   ]
  },
  {
   "cell_type": "code",
   "execution_count": 49,
   "metadata": {},
   "outputs": [
    {
     "data": {
      "text/plain": [
       "<matplotlib.legend.Legend at 0x219f15613a0>"
      ]
     },
     "execution_count": 49,
     "metadata": {},
     "output_type": "execute_result"
    },
    {
     "data": {
      "image/png": "[encoded data removed]",
      "text/plain": [
       "<Figure size 432x288 with 1 Axes>"
      ]
     },
     "metadata": {
      "needs_background": "light"
     },
     "output_type": "display_data"
    }
   ],
   "source": [
    "plt.plot(dates_train, train_predictions)\n",
    "plt.plot(dates_train, y_train)\n",
    "plt.plot(dates_val, val_predictions)\n",
    "plt.plot(dates_val, y_val)\n",
    "plt.plot(dates_test, test_predictions)\n",
    "plt.plot(dates_test, y_test)\n",
    "plt.legend(['Training Predictions', \n",
    "            'Training Observations',\n",
    "            'Validation Predictions', \n",
    "            'Validation Observations',\n",
    "            'Testing Predictions', \n",
    "            'Testing Observations'])"
   ]
  },
  {
   "cell_type": "code",
   "execution_count": null,
   "metadata": {},
   "outputs": [],
   "source": []
  }
 ],
 "metadata": {
  "kernelspec": {
   "display_name": "Python 3.9.13 64-bit (windows store)",
   "language": "python",
   "name": "python3"
  },
  "language_info": {
   "codemirror_mode": {
    "name": "ipython",
    "version": 3
   },
   "file_extension": ".py",
   "mimetype": "text/x-python",
   "name": "python",
   "nbconvert_exporter": "python",
   "pygments_lexer": "ipython3",
   "version": "3.9.13"
  },
  "orig_nbformat": 4,
  "vscode": {
   "interpreter": {
    "hash": "d059f701c0bcfbc3e44954d725a38ca7feb4b3edf0ca143d61343b6fc2fab824"
   }
  }
 },
 "nbformat": 4,
 "nbformat_minor": 2
}
